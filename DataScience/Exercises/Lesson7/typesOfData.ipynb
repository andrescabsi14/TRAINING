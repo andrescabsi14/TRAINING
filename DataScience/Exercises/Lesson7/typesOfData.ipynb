{
 "cells": [
  {
   "cell_type": "markdown",
   "metadata": {},
   "source": [
    "TYPES OF DATA\n",
    "\n",
    "Numerical\n",
    "    Represent quantifiable things that I can measure.\n",
    "    Ex: Stock prices, heights of people etc.\n",
    "    \n",
    "    Discrete data\n",
    "      Integer based. Often count some event.\n",
    "        Ex: How many purchases did a customer make in one year?\n",
    "       \n",
    "    Continuous data\n",
    "      Has an infinite number of possible values \n",
    "        Ex: How much rain fell on a given day?\n",
    "            How much time did it take for a user yo check out?\n",
    "\n",
    "Categorical\n",
    "    Qualitative data that has no inherent mathematical meaning\n",
    "        Ex: Gender, Yes/no (binary data), Race, State of residence, Product Category, Political Party, etc.\n",
    "    \n",
    "    You can assign numbers to categories in order to represent them more compactly, but the numbers don't have mathematical meaning.\n",
    "Ordinal\n",
    "    - A mixture of numerical and categorical.\n",
    "    - Categorical data that has mathematical meaning.\n",
    "        Ex: Ratings must be 1,2,3,4 or 5\n",
    "        But these values have mathematical meaning; 1 means it's a worse movie than a 2."
   ]
  },
  {
   "cell_type": "markdown",
   "metadata": {},
   "source": []
  }
 ],
 "metadata": {
  "kernelspec": {
   "display_name": "Python 2",
   "language": "python",
   "name": "python2"
  },
  "language_info": {
   "codemirror_mode": {
    "name": "ipython",
    "version": 2
   },
   "file_extension": ".py",
   "mimetype": "text/x-python",
   "name": "python",
   "nbconvert_exporter": "python",
   "pygments_lexer": "ipython2",
   "version": "2.7.11"
  }
 },
 "nbformat": 4,
 "nbformat_minor": 0
}
