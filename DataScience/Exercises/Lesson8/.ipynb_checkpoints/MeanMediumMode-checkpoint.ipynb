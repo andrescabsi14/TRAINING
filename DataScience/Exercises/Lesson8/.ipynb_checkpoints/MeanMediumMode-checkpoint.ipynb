{
 "cells": [
  {
   "cell_type": "markdown",
   "metadata": {},
   "source": [
    "Mean\n",
    "    Is the average. We can get the mean by adding all the values and divide it by the elements length.\n",
    "    Ex: 1,2,3,4,3,4,5,5\n",
    "    \n",
    "    Mean: 1,2,3,4,3,4,5,5\n",
    "         _________________\n",
    "                 8\n",
    "\n",
    "Median\n",
    "    Sort values and extract take the value at the midpoint.\n",
    "    Ex: 1,2,3,4,3,4,6,5,5\n",
    "        Sort it\n",
    "        1,2,3,3,4,4,5,5,6\n",
    "        Median = 4\n",
    "    \n",
    "    If the length is even, we can take the average of the two numbers in the middle.\n",
    "\n",
    "Mode\n",
    "    The most common value in a data set (not relevant to continuos numerical data)\n",
    "    Ex: Numbers of kids in each house: 1,2,4,3,4,3,4,6,5,5\n",
    "    How many of each value are there?\n",
    "    1:1, 2:2, 4:3, 3:2, 6:1, 5:2\n",
    "    THE MODE IS 4"
   ]
  }
 ],
 "metadata": {
  "kernelspec": {
   "display_name": "Python 2",
   "language": "python",
   "name": "python2"
  },
  "language_info": {
   "codemirror_mode": {
    "name": "ipython",
    "version": 2
   },
   "file_extension": ".py",
   "mimetype": "text/x-python",
   "name": "python",
   "nbconvert_exporter": "python",
   "pygments_lexer": "ipython2",
   "version": "2.7.11"
  }
 },
 "nbformat": 4,
 "nbformat_minor": 0
}
