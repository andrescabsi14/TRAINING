{
 "cells": [
  {
   "cell_type": "markdown",
   "metadata": {},
   "source": [
    "# Mean, Median, Mode, and introducing NumPy"
   ]
  },
  {
   "cell_type": "markdown",
   "metadata": {},
   "source": [
    "## Mean vs. Median"
   ]
  },
  {
   "cell_type": "markdown",
   "metadata": {},
   "source": [
    "Let's create some fake income data, centered around 27,000 with a normal distribution and standard deviation of 15,000, with 10,000 data points. (We'll discuss those terms more later, if you're not familiar with them.)\n",
    "\n",
    "Then, compute the mean (average) - it should be close to 27,000:"
   ]
  },
  {
   "cell_type": "code",
   "execution_count": 5,
   "metadata": {
    "collapsed": false
   },
   "outputs": [
    {
     "data": {
      "text/plain": [
       "26963.778088486451"
      ]
     },
     "execution_count": 5,
     "metadata": {},
     "output_type": "execute_result"
    }
   ],
   "source": [
    "import numpy as np\n",
    "\n",
    "incomes = np.random.normal(27000, 15000, 10000)\n",
    "np.mean(incomes)"
   ]
  },
  {
   "cell_type": "markdown",
   "metadata": {},
   "source": [
    "We can segment the income data into 50 buckets, and plot it as a histogram:"
   ]
  },
  {
   "cell_type": "code",
   "execution_count": 12,
   "metadata": {
    "collapsed": false
   },
   "outputs": [
    {
     "data": {
      "image/png": "[encoded data removed]",
      "text/plain": [
       "<matplotlib.figure.Figure at 0x10e63b990>"
      ]
     },
     "metadata": {},
     "output_type": "display_data"
    }
   ],
   "source": [
    "%matplotlib inline\n",
    "import matplotlib.pyplot as plt\n",
    "plt.hist(incomes, 50)\n",
    "plt.show()"
   ]
  },
  {
   "cell_type": "markdown",
   "metadata": {},
   "source": [
    "Now compute the median - since we have a nice, even distribution it too should be close to 27,000:"
   ]
  },
  {
   "cell_type": "code",
   "execution_count": 9,
   "metadata": {
    "collapsed": false
   },
   "outputs": [
    {
     "data": {
      "text/plain": [
       "26901.208223388123"
      ]
     },
     "execution_count": 9,
     "metadata": {},
     "output_type": "execute_result"
    }
   ],
   "source": [
    "np.median(incomes)"
   ]
  },
  {
   "cell_type": "markdown",
   "metadata": {},
   "source": [
    "Now we'll add Donald Trump into the mix. Darn income inequality!"
   ]
  },
  {
   "cell_type": "code",
   "execution_count": 4,
   "metadata": {
    "collapsed": false
   },
   "outputs": [],
   "source": [
    "incomes = np.append(incomes, [1000000000])"
   ]
  },
  {
   "cell_type": "markdown",
   "metadata": {},
   "source": [
    "The median won't change much, but the mean does:"
   ]
  },
  {
   "cell_type": "code",
   "execution_count": 14,
   "metadata": {
    "collapsed": false
   },
   "outputs": [
    {
     "data": {
      "text/plain": [
       "26901.208223388123"
      ]
     },
     "execution_count": 14,
     "metadata": {},
     "output_type": "execute_result"
    }
   ],
   "source": [
    "np.median(incomes)"
   ]
  },
  {
   "cell_type": "code",
   "execution_count": 15,
   "metadata": {
    "collapsed": false
   },
   "outputs": [
    {
     "data": {
      "text/plain": [
       "26963.778088486451"
      ]
     },
     "execution_count": 15,
     "metadata": {},
     "output_type": "execute_result"
    }
   ],
   "source": [
    "np.mean(incomes)"
   ]
  },
  {
   "cell_type": "markdown",
   "metadata": {},
   "source": [
    "## Mode"
   ]
  },
  {
   "cell_type": "markdown",
   "metadata": {},
   "source": [
    "Next, let's generate some fake age data for 500 people:"
   ]
  },
  {
   "cell_type": "code",
   "execution_count": 20,
   "metadata": {
    "collapsed": false
   },
   "outputs": [
    {
     "data": {
      "text/plain": [
       "array([87, 87, 84, 36, 24, 67, 20, 65, 85, 59, 54, 40, 78, 34, 69, 84, 42,\n",
       "       57, 79, 33, 85, 41, 23, 79, 37, 55, 22, 20, 57, 44, 67, 74, 36, 57,\n",
       "       27, 36, 56, 79, 21, 60, 36, 64, 54, 40, 89, 37, 74, 40, 78, 20, 41,\n",
       "       53, 23, 69, 75, 21, 45, 21, 88, 23, 77, 61, 28, 24, 77, 61, 87, 88,\n",
       "       27, 28, 73, 88, 77, 52, 39, 40, 79, 73, 18, 18, 28, 49, 45, 63, 42,\n",
       "       80, 50, 50, 45, 89, 85, 59, 70, 20, 43, 19, 24, 80, 61, 80, 78, 51,\n",
       "       81, 89, 27, 82, 46, 42, 86, 51, 44, 79, 62, 49, 49, 34, 88, 37, 45,\n",
       "       69, 46, 42, 59, 32, 42, 63, 27, 37, 40, 21, 81, 35, 37, 31, 79, 66,\n",
       "       75, 81, 28, 84, 32, 46, 44, 26, 75, 35, 59, 40, 35, 70, 44, 70, 78,\n",
       "       22, 56, 39, 62, 62, 55, 76, 67, 46, 44, 39, 33, 21, 41, 53, 30, 19,\n",
       "       32, 54, 63, 82, 37, 85, 71, 83, 88, 24, 22, 72, 35, 42, 50, 37, 33,\n",
       "       76, 83, 51, 40, 72, 56, 21, 88, 43, 79, 74, 43, 70, 77, 60, 24, 89,\n",
       "       79, 84, 75, 48, 49, 84, 18, 66, 61, 78, 88, 22, 19, 45, 42, 82, 58,\n",
       "       65, 82, 65, 40, 24, 41, 34, 24, 53, 35, 77, 61, 74, 83, 56, 67, 54,\n",
       "       56, 32, 20, 71, 45, 41, 37, 72, 43, 59, 56, 19, 48, 56, 68, 49, 37,\n",
       "       38, 75, 70, 39, 61, 37, 84, 60, 64, 40, 64, 49, 56, 61, 72, 44, 29,\n",
       "       23, 61, 84, 81, 88, 44, 47, 54, 79, 68, 59, 48, 71, 43, 79, 52, 85,\n",
       "       88, 28, 26, 47, 79, 18, 67, 61, 47, 71, 36, 53, 80, 73, 31, 54, 72,\n",
       "       60, 76, 49, 87, 28, 44, 21, 29, 33, 86, 68, 23, 62, 21, 35, 76, 73,\n",
       "       24, 30, 56, 63, 47, 57, 23, 41, 47, 47, 77, 43, 50, 61, 58, 36, 23,\n",
       "       61, 56, 71, 20, 54, 34, 64, 39, 60, 77, 30, 63, 19, 62, 55, 70, 43,\n",
       "       66, 52, 61, 27, 85, 64, 72, 49, 88, 87, 31, 40, 86, 19, 30, 78, 88,\n",
       "       30, 26, 63, 26, 87, 46, 81, 44, 71, 27, 25, 57, 71, 25, 68, 74, 24,\n",
       "       64, 48, 64, 71, 63, 43, 61, 30, 53, 79, 31, 55, 26, 54, 86, 79, 23,\n",
       "       40, 47, 89, 19, 48, 67, 82, 38, 61, 59, 48, 45, 65, 24, 19, 39, 30,\n",
       "       47, 42, 88, 87, 86, 75, 23, 32, 35, 45, 30, 85, 86, 39, 36, 68, 28,\n",
       "       23, 21, 70, 34, 63, 88, 36, 73, 82, 85, 38, 38, 38, 66, 89, 63, 61,\n",
       "       73, 38, 89, 66, 65, 33, 55, 82, 18, 46, 69, 85, 46, 44, 49, 55, 30,\n",
       "       79, 89, 86, 31, 36, 57, 61, 78, 55, 53, 66, 67, 52, 31, 58, 75, 81,\n",
       "       46, 60, 82, 53, 35, 55, 43])"
      ]
     },
     "execution_count": 20,
     "metadata": {},
     "output_type": "execute_result"
    }
   ],
   "source": [
    "ages = np.random.randint(18, high=90, size=500)\n",
    "ages"
   ]
  },
  {
   "cell_type": "code",
   "execution_count": 21,
   "metadata": {
    "collapsed": false
   },
   "outputs": [
    {
     "data": {
      "text/plain": [
       "ModeResult(mode=array([61]), count=array([16]))"
      ]
     },
     "execution_count": 21,
     "metadata": {},
     "output_type": "execute_result"
    }
   ],
   "source": [
    "from scipy import stats\n",
    "stats.mode(ages)"
   ]
  },
  {
   "cell_type": "code",
   "execution_count": null,
   "metadata": {
    "collapsed": false
   },
   "outputs": [],
   "source": []
  }
 ],
 "metadata": {
  "kernelspec": {
   "display_name": "Python 2",
   "language": "python",
   "name": "python2"
  },
  "language_info": {
   "codemirror_mode": {
    "name": "ipython",
    "version": 2
   },
   "file_extension": ".py",
   "mimetype": "text/x-python",
   "name": "python",
   "nbconvert_exporter": "python",
   "pygments_lexer": "ipython2",
   "version": "2.7.11"
  }
 },
 "nbformat": 4,
 "nbformat_minor": 0
}
